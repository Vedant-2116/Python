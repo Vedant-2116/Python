{
  "nbformat": 4,
  "nbformat_minor": 0,
  "metadata": {
    "colab": {
      "provenance": []
    },
    "kernelspec": {
      "name": "python3",
      "display_name": "Python 3"
    },
    "language_info": {
      "name": "python"
    }
  },
  "cells": [
    {
      "cell_type": "code",
      "execution_count": 59,
      "metadata": {
        "colab": {
          "base_uri": "https://localhost:8080/"
        },
        "id": "LsEBw0N2BWE5",
        "outputId": "684592b1-ac8c-4263-83e8-51a3b6f191e8"
      },
      "outputs": [
        {
          "output_type": "stream",
          "name": "stdout",
          "text": [
            "Drive already mounted at /content/drive; to attempt to forcibly remount, call drive.mount(\"/content/drive\", force_remount=True).\n"
          ]
        }
      ],
      "source": [
        "from google.colab import drive\n",
        "drive.mount('/content/drive')"
      ]
    },
    {
      "cell_type": "code",
      "source": [
        "import pandas as pd\n"
      ],
      "metadata": {
        "id": "bHhtg_JWBzdg"
      },
      "execution_count": 60,
      "outputs": []
    },
    {
      "cell_type": "code",
      "source": [
        "# STEP 1\n",
        "myDF = pd.read_csv('/content/drive/MyDrive/ColabNotebooks/test.csv')\n"
      ],
      "metadata": {
        "id": "NfE0dWJNB04m"
      },
      "execution_count": 61,
      "outputs": []
    },
    {
      "cell_type": "code",
      "source": [
        "# STEP 2\n",
        "print(myDF.head(3))\n"
      ],
      "metadata": {
        "colab": {
          "base_uri": "https://localhost:8080/"
        },
        "id": "J7PoDfKVC7H4",
        "outputId": "c2b6dd58-88d2-4d95-882b-c3011db07b9b"
      },
      "execution_count": 62,
      "outputs": [
        {
          "output_type": "stream",
          "name": "stdout",
          "text": [
            "   ID  Range  Value Type Zip Code Model   Cost      Continent\n",
            "0  10    192     50    F   NXEYEM  EX85  [56$]           Asia\n",
            "1  20    299     21    M   VNFKZD  CT41  [18$]           Asia\n",
            "2  30    378     28    X   IMGMFY  VN81  [90$]  North America\n"
          ]
        }
      ]
    },
    {
      "cell_type": "code",
      "source": [
        "# STEP 3\n",
        "myDF_temp = myDF.drop('Model', axis=1)\n"
      ],
      "metadata": {
        "id": "e-tFfzfzGjVr"
      },
      "execution_count": 63,
      "outputs": []
    },
    {
      "cell_type": "code",
      "source": [
        "# STEP 4\n",
        "myDF = myDF.drop('Model', axis=1)\n",
        "# Checking if the 'Model' column is deleted\n",
        "# There will be no output if it is deleted\n",
        "print(myDF.head())\n"
      ],
      "metadata": {
        "colab": {
          "base_uri": "https://localhost:8080/"
        },
        "id": "D8zYTbbcKp59",
        "outputId": "f1937620-3d76-456e-ce96-6b112e3192d4"
      },
      "execution_count": 64,
      "outputs": [
        {
          "output_type": "stream",
          "name": "stdout",
          "text": [
            "   ID  Range  Value Type Zip Code   Cost      Continent\n",
            "0  10    192     50    F   NXEYEM  [56$]           Asia\n",
            "1  20    299     21    M   VNFKZD  [18$]           Asia\n",
            "2  30    378     28    X   IMGMFY  [90$]  North America\n",
            "3  40    156     44    Q   RHRHJY  [89$]           Asia\n",
            "4  50    468     33    J   HPQCMC  [95$]         Africa\n"
          ]
        }
      ]
    },
    {
      "cell_type": "code",
      "source": [
        "# STEP 5\n",
        "myDF.drop([1, 3, 5], inplace=True)\n",
        "#  Show the first 4 rows of myDF\n",
        "print(myDF.head(4))\n"
      ],
      "metadata": {
        "colab": {
          "base_uri": "https://localhost:8080/"
        },
        "id": "0mRReZ3yEFfR",
        "outputId": "9fb8bc8e-5c4c-4689-c774-f88bccc5a664"
      },
      "execution_count": 65,
      "outputs": [
        {
          "output_type": "stream",
          "name": "stdout",
          "text": [
            "   ID  Range  Value Type Zip Code   Cost      Continent\n",
            "0  10    192     50    F   NXEYEM  [56$]           Asia\n",
            "2  30    378     28    X   IMGMFY  [90$]  North America\n",
            "4  50    468     33    J   HPQCMC  [95$]         Africa\n",
            "6  70    327     24    F   NLVQPY  [25$]         Europe\n"
          ]
        }
      ]
    },
    {
      "cell_type": "code",
      "source": [
        "# STEP 6\n",
        "range_mean = myDF['Range'].mean()"
      ],
      "metadata": {
        "id": "iPK4iO3REG-x"
      },
      "execution_count": 66,
      "outputs": []
    },
    {
      "cell_type": "code",
      "source": [
        "# STREP 7\n",
        "f_count = (myDF['Type'] == 'F').sum()\n",
        "\n",
        "# Replace 'F' with 'AAA' in the 'Type' column permanently\n",
        "myDF['Type'].replace('F', 'AAA', inplace=True)\n",
        "\n",
        "#  Display the first 5 rows\n",
        "print(myDF.head(5))\n",
        "\n"
      ],
      "metadata": {
        "id": "1ZwDNLdFEMIw",
        "colab": {
          "base_uri": "https://localhost:8080/"
        },
        "outputId": "11d5b0b6-56bc-418c-bc86-a282cf95f95e"
      },
      "execution_count": 67,
      "outputs": [
        {
          "output_type": "stream",
          "name": "stdout",
          "text": [
            "   ID  Range  Value Type Zip Code   Cost      Continent\n",
            "0  10    192     50  AAA   NXEYEM  [56$]           Asia\n",
            "2  30    378     28    X   IMGMFY  [90$]  North America\n",
            "4  50    468     33    J   HPQCMC  [95$]         Africa\n",
            "6  70    327     24  AAA   NLVQPY  [25$]         Europe\n",
            "7  80    495     50    Z   DLUMAX  [70$]     Antarctica\n"
          ]
        }
      ]
    },
    {
      "cell_type": "code",
      "source": [
        "# STEP 8\n",
        "myDF['Cost'] = myDF['Cost'].replace('[\\$,]', '', regex=True)\n",
        "# Convert values inside square brackets to NaN and then fillna with 0\n",
        "myDF['Cost'] = pd.to_numeric(myDF['Cost'], errors='coerce').fillna(0)\n",
        "\n",
        "#  Display the first 5 rows and check the type of 'Cost' column\n",
        "print(myDF.head(5))\n",
        "print(myDF['Cost'].dtype)"
      ],
      "metadata": {
        "colab": {
          "base_uri": "https://localhost:8080/"
        },
        "id": "bpRysQgfLXMH",
        "outputId": "53411bab-c5fa-49ec-b22d-3a6df96fbefa"
      },
      "execution_count": 68,
      "outputs": [
        {
          "output_type": "stream",
          "name": "stdout",
          "text": [
            "   ID  Range  Value Type Zip Code  Cost      Continent\n",
            "0  10    192     50  AAA   NXEYEM   0.0           Asia\n",
            "2  30    378     28    X   IMGMFY   0.0  North America\n",
            "4  50    468     33    J   HPQCMC   0.0         Africa\n",
            "6  70    327     24  AAA   NLVQPY   0.0         Europe\n",
            "7  80    495     50    Z   DLUMAX   0.0     Antarctica\n",
            "float64\n"
          ]
        }
      ]
    },
    {
      "cell_type": "code",
      "source": [
        "# STEP 9\n",
        "myDF['Cost'] = myDF['Cost'].astype(int)\n",
        "\n",
        "#  Display the result\n",
        "print(myDF.head())\n"
      ],
      "metadata": {
        "id": "0x3pK0h1LhHx",
        "colab": {
          "base_uri": "https://localhost:8080/"
        },
        "outputId": "f87c1e79-869c-4a3c-9d2e-4b61a1ac0742"
      },
      "execution_count": 69,
      "outputs": [
        {
          "output_type": "stream",
          "name": "stdout",
          "text": [
            "   ID  Range  Value Type Zip Code  Cost      Continent\n",
            "0  10    192     50  AAA   NXEYEM     0           Asia\n",
            "2  30    378     28    X   IMGMFY     0  North America\n",
            "4  50    468     33    J   HPQCMC     0         Africa\n",
            "6  70    327     24  AAA   NLVQPY     0         Europe\n",
            "7  80    495     50    Z   DLUMAX     0     Antarctica\n"
          ]
        }
      ]
    },
    {
      "cell_type": "code",
      "source": [
        "# STEP 10\n",
        "cost_mean = myDF['Cost'].mean()\n",
        "\n",
        "#  Calculate the average of 'Cost' for each 'Continent'\n",
        "continent_cost_mean = myDF.groupby('Continent')['Cost'].mean()"
      ],
      "metadata": {
        "id": "jTNMdKrALi4z"
      },
      "execution_count": 70,
      "outputs": []
    },
    {
      "cell_type": "code",
      "source": [
        "# STEP 11\n",
        "continent_cost_stats = myDF.groupby('Continent')['Cost'].agg(['min', 'max', 'std'])\n"
      ],
      "metadata": {
        "id": "TIJ_N6IFPDtB"
      },
      "execution_count": 71,
      "outputs": []
    },
    {
      "cell_type": "code",
      "source": [
        "# STP 12\n",
        "continent_stats = myDF.groupby('Continent').describe()"
      ],
      "metadata": {
        "id": "xP5S1dhcRNb9"
      },
      "execution_count": 72,
      "outputs": []
    },
    {
      "cell_type": "code",
      "source": [
        "# STEP 13\n",
        "continent_mean_chart = myDF.groupby('Continent').mean().plot(kind='bar')\n"
      ],
      "metadata": {
        "colab": {
          "base_uri": "https://localhost:8080/",
          "height": 593
        },
        "id": "rFHeq06iRNmo",
        "outputId": "9da4d9cb-9692-494d-c8c1-b1ef7ed2e360"
      },
      "execution_count": 73,
      "outputs": [
        {
          "output_type": "stream",
          "name": "stderr",
          "text": [
            "<ipython-input-73-b566394fd114>:2: FutureWarning: The default value of numeric_only in DataFrameGroupBy.mean is deprecated. In a future version, numeric_only will default to False. Either specify numeric_only or select only columns which should be valid for the function.\n",
            "  continent_mean_chart = myDF.groupby('Continent').mean().plot(kind='bar')\n"
          ]
        },
        {
          "output_type": "display_data",
          "data": {
            "text/plain": [
              "<Figure size 640x480 with 1 Axes>"
            ],
            "image/png": "[encoded data removed]"
          },
          "metadata": {}
        }
      ]
    },
    {
      "cell_type": "code",
      "source": [
        "# STEP 14\n",
        "continent_counts = myDF['Continent'].value_counts()"
      ],
      "metadata": {
        "id": "E5dMyKUeOkj_"
      },
      "execution_count": 74,
      "outputs": []
    },
    {
      "cell_type": "code",
      "source": [
        "#STEP 15\n",
        "continent_percentage = myDF['Continent'].value_counts(normalize=True) * 100\n",
        "\n"
      ],
      "metadata": {
        "id": "0jdu4ojgOplT"
      },
      "execution_count": 75,
      "outputs": []
    },
    {
      "cell_type": "code",
      "source": [
        "#STEP 16\n",
        "unique_continents = myDF['Continent'].unique()\n",
        "\n",
        "#  Show the number of unique values in the 'Continent' column\n",
        "num_unique_continents = len(unique_continents)\n"
      ],
      "metadata": {
        "id": "TXfZpecGOy_r"
      },
      "execution_count": 76,
      "outputs": []
    },
    {
      "cell_type": "code",
      "source": [
        "#STEP 17\n",
        "cost_value_counts = myDF['Cost'].value_counts()\n"
      ],
      "metadata": {
        "id": "7UrM9-qwO4ev"
      },
      "execution_count": 77,
      "outputs": []
    },
    {
      "cell_type": "code",
      "source": [
        "#STEP 18\n",
        "myDF['Cost'].plot(kind='hist', bins=50)\n"
      ],
      "metadata": {
        "id": "wfT2ZqwJPJL_",
        "colab": {
          "base_uri": "https://localhost:8080/",
          "height": 448
        },
        "outputId": "d76ac2cf-ea76-4be4-d4d5-7f7e028fd1c5"
      },
      "execution_count": 78,
      "outputs": [
        {
          "output_type": "execute_result",
          "data": {
            "text/plain": [
              "<Axes: ylabel='Frequency'>"
            ]
          },
          "metadata": {},
          "execution_count": 78
        },
        {
          "output_type": "display_data",
          "data": {
            "text/plain": [
              "<Figure size 640x480 with 1 Axes>"
            ],
            "image/png": "[encoded data removed]"
          },
          "metadata": {}
        }
      ]
    },
    {
      "cell_type": "code",
      "source": [
        "#STEP 19\n",
        "# Bonus\n",
        "myDF['Cost'].plot(kind='hist', bins=50)\n"
      ],
      "metadata": {
        "id": "qVIXoC7EPNbX",
        "colab": {
          "base_uri": "https://localhost:8080/",
          "height": 448
        },
        "outputId": "8b1efc85-02a8-4995-c925-62158e89330c"
      },
      "execution_count": 79,
      "outputs": [
        {
          "output_type": "execute_result",
          "data": {
            "text/plain": [
              "<Axes: ylabel='Frequency'>"
            ]
          },
          "metadata": {},
          "execution_count": 79
        },
        {
          "output_type": "display_data",
          "data": {
            "text/plain": [
              "<Figure size 640x480 with 1 Axes>"
            ],
            "image/png": "[encoded data removed]"
          },
          "metadata": {}
        }
      ]
    },
    {
      "cell_type": "code",
      "source": [
        "#STEP 20\n",
        "missing_zip_code = myDF['Zip Code'].isnull().sum()\n",
        "\n",
        "# How many missing values in the 'Type' column?\n",
        "missing_type = myDF['Type'].isnull().sum()\n",
        "\n",
        "#  Provide a brief summary of null values for the entire DataFrame\n",
        "null_summary = myDF.isnull().sum()"
      ],
      "metadata": {
        "id": "uthvS9sEPQkJ"
      },
      "execution_count": 80,
      "outputs": []
    },
    {
      "cell_type": "code",
      "source": [
        "#STEP 21\n",
        "rows_after_dropna = myDF.dropna().shape[0]\n"
      ],
      "metadata": {
        "id": "qxTfJwuMPUv3"
      },
      "execution_count": 81,
      "outputs": []
    },
    {
      "cell_type": "code",
      "source": [
        "#STEP 22\n",
        "type_value_counts = myDF['Type'].value_counts(dropna=False)"
      ],
      "metadata": {
        "id": "YLhqqOLmQjE-"
      },
      "execution_count": 82,
      "outputs": []
    },
    {
      "cell_type": "code",
      "source": [
        "#STEP 23\n",
        "myDF['Type'].fillna('XXX', inplace=True)\n"
      ],
      "metadata": {
        "id": "uOBHAtZ3Qn9P"
      },
      "execution_count": 83,
      "outputs": []
    },
    {
      "cell_type": "code",
      "source": [
        "#STEP 24\n",
        "myDF.dropna(inplace=True)\n",
        "\n",
        "#Show the number of rows after dropping missing values\n",
        "rows_after_dropna_permanent = myDF.shape[0]"
      ],
      "metadata": {
        "id": "0so91V-QPYHw"
      },
      "execution_count": 84,
      "outputs": []
    },
    {
      "cell_type": "code",
      "source": [
        "#STEP 25\n",
        "myDF.set_index('ID', inplace=True)\n",
        "myDF.index.name = None\n",
        "\n",
        "# Show the first 5 rows of the DataFrame\n",
        "print(myDF.head())\n",
        "\n",
        "# Show the value of the cell with ID 70 and column header 'Value'\n",
        "value_at_70 = myDF.at[70, 'Value']\n"
      ],
      "metadata": {
        "colab": {
          "base_uri": "https://localhost:8080/"
        },
        "id": "scOUhtiLPZ8r",
        "outputId": "c8031ecd-4055-4367-8e28-3397cec229e5"
      },
      "execution_count": 85,
      "outputs": [
        {
          "output_type": "stream",
          "name": "stdout",
          "text": [
            "    Range  Value Type Zip Code  Cost      Continent\n",
            "10    192     50  AAA   NXEYEM     0           Asia\n",
            "30    378     28    X   IMGMFY     0  North America\n",
            "50    468     33    J   HPQCMC     0         Africa\n",
            "70    327     24  AAA   NLVQPY     0         Europe\n",
            "80    495     50    Z   DLUMAX     0     Antarctica\n"
          ]
        }
      ]
    },
    {
      "cell_type": "code",
      "source": [
        "#STEP 26\n",
        "print(myDF.index)\n",
        "print(myDF.columns)\n",
        "print(myDF.shape)\n",
        "\n",
        "# Bring back the 'ID' column to the DataFrame and reset the index\n",
        "myDF.reset_index(inplace=True)\n",
        "\n",
        "# Show the index, columns, and shape of the current DataFrame\n",
        "print(myDF.index)\n",
        "print(myDF.columns)\n",
        "print(myDF.shape)"
      ],
      "metadata": {
        "colab": {
          "base_uri": "https://localhost:8080/"
        },
        "id": "l1t0zkkDPd3t",
        "outputId": "7eb9939f-de64-4ee9-8b07-a1145af241ba"
      },
      "execution_count": 86,
      "outputs": [
        {
          "output_type": "stream",
          "name": "stdout",
          "text": [
            "Int64Index([  10,   30,   50,   70,   80,   90,  100,  110,  120,  130,\n",
            "            ...\n",
            "            9410, 9420, 9430, 9440, 9450, 9460, 9470, 9480, 9490, 9500],\n",
            "           dtype='int64', length=938)\n",
            "Index(['Range', 'Value', 'Type', 'Zip Code', 'Cost', 'Continent'], dtype='object')\n",
            "(938, 6)\n",
            "RangeIndex(start=0, stop=938, step=1)\n",
            "Index(['index', 'Range', 'Value', 'Type', 'Zip Code', 'Cost', 'Continent'], dtype='object')\n",
            "(938, 7)\n"
          ]
        }
      ]
    },
    {
      "cell_type": "code",
      "source": [
        "#STEP 27\n",
        "describe_stats = myDF.describe()\n"
      ],
      "metadata": {
        "id": "SO4ZWOFZPl-r"
      },
      "execution_count": 87,
      "outputs": []
    },
    {
      "cell_type": "code",
      "source": [
        "#STEP 28\n",
        "continent_counts_sorted = myDF['Continent'].value_counts().sort_values()\n",
        "\n",
        "# Sort the value_counts() of the 'Continent' column alphabetically\n",
        "continent_counts_alphabetical = myDF['Continent'].value_counts().sort_index()\n",
        "\n"
      ],
      "metadata": {
        "id": "3zW_y9zUPmAG"
      },
      "execution_count": 88,
      "outputs": []
    },
    {
      "cell_type": "code",
      "source": [
        "#STEP 29\n",
        "rows_1_3_5_7_columns = myDF.loc[[1, 3, 5, 7]]\n",
        "type_continent_columns = myDF.loc[:, ['Type', 'Continent']].head(7)"
      ],
      "metadata": {
        "id": "MG7pjiX1Prmk"
      },
      "execution_count": 89,
      "outputs": []
    },
    {
      "cell_type": "code",
      "source": [
        "#STEP 30\n",
        "value_of_XXX_type = myDF.loc[myDF['Type'] == 'XXX', 'Value']"
      ],
      "metadata": {
        "id": "sEEBrJ0KPrn0"
      },
      "execution_count": 90,
      "outputs": []
    },
    {
      "cell_type": "markdown",
      "source": [],
      "metadata": {
        "id": "I8o0InP1HWtN"
      }
    }
  ]
}